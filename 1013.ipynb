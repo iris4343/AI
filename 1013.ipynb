{
  "nbformat": 4,
  "nbformat_minor": 0,
  "metadata": {
    "colab": {
      "provenance": []
    },
    "kernelspec": {
      "name": "python3",
      "display_name": "Python 3"
    },
    "language_info": {
      "name": "python"
    }
  },
  "cells": [
    {
      "cell_type": "code",
      "execution_count": 4,
      "metadata": {
        "colab": {
          "base_uri": "https://localhost:8080/"
        },
        "id": "qE8Hsj3R8vqb",
        "outputId": "d53671c1-a39f-49df-ebb5-6e91bf522d72"
      },
      "outputs": [
        {
          "output_type": "stream",
          "name": "stdout",
          "text": [
            "<class 'str'>\n",
            "<class 'str'>\n"
          ]
        }
      ],
      "source": [
        "name=\"任品妤\"\n",
        "ID=\"B1205031\"\n",
        "print(type(name))\n",
        "print(type(ID))"
      ]
    },
    {
      "cell_type": "code",
      "source": [
        "inf=[\"任品妤\",\"B1205031\"]\n",
        "print(inf)"
      ],
      "metadata": {
        "colab": {
          "base_uri": "https://localhost:8080/"
        },
        "id": "6UjP0leU-5on",
        "outputId": "66181714-fa5d-42ba-da17-bf8abaffa7a7"
      },
      "execution_count": 5,
      "outputs": [
        {
          "output_type": "stream",
          "name": "stdout",
          "text": [
            "['任品妤', 'B1205031']\n"
          ]
        }
      ]
    }
  ]
}