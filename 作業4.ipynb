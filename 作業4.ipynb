{
  "nbformat": 4,
  "nbformat_minor": 0,
  "metadata": {
    "colab": {
      "provenance": []
    },
    "kernelspec": {
      "name": "python3",
      "display_name": "Python 3"
    },
    "language_info": {
      "name": "python"
    }
  },
  "cells": [
    {
      "cell_type": "markdown",
      "source": [
        "99乘法表"
      ],
      "metadata": {
        "id": "9kcLoagfA8B0"
      }
    },
    {
      "cell_type": "code",
      "source": [
        "num=int(input(\"請輸入欲生成範圍：\"))\n",
        "for i in range(1,num+1):\n",
        "  for j in range(1,num+1):\n",
        "    product=i*j\n",
        "    print(f\"{i}X{j}={product}\")"
      ],
      "metadata": {
        "colab": {
          "base_uri": "https://localhost:8080/"
        },
        "id": "PbN4jwdWA_CV",
        "outputId": "c1a8e1d2-d278-4336-e699-9f8ba7bb47a5"
      },
      "execution_count": 4,
      "outputs": [
        {
          "output_type": "stream",
          "name": "stdout",
          "text": [
            "請輸入欲生成範圍：5\n",
            "1X1=1\n",
            "1X2=2\n",
            "1X3=3\n",
            "1X4=4\n",
            "1X5=5\n",
            "2X1=2\n",
            "2X2=4\n",
            "2X3=6\n",
            "2X4=8\n",
            "2X5=10\n",
            "3X1=3\n",
            "3X2=6\n",
            "3X3=9\n",
            "3X4=12\n",
            "3X5=15\n",
            "4X1=4\n",
            "4X2=8\n",
            "4X3=12\n",
            "4X4=16\n",
            "4X5=20\n",
            "5X1=5\n",
            "5X2=10\n",
            "5X3=15\n",
            "5X4=20\n",
            "5X5=25\n"
          ]
        }
      ]
    },
    {
      "cell_type": "markdown",
      "source": [
        "猜數字"
      ],
      "metadata": {
        "id": "-5Rb30_ICoDM"
      }
    },
    {
      "cell_type": "code",
      "source": [
        "import random\n",
        "target=random.randint(1,100)\n",
        "\n",
        "print(\"歡迎參加猜數字遊戲！\")\n",
        "guess=int(input(\"請在1~100間猜一個數字：\"))\n",
        "while guess!=target:\n",
        "  if guess<target:\n",
        "    guess=int(input(\"猜大一點：\"))\n",
        "  elif guess>target:\n",
        "    guess=int(input(\"猜小一點：\"))\n",
        "print(\"恭喜答對！\")\n",
        "print(\"遊戲結束。\")"
      ],
      "metadata": {
        "colab": {
          "base_uri": "https://localhost:8080/"
        },
        "id": "blxxtbWRCtfE",
        "outputId": "0d5feec3-cac1-4bfa-e0c5-da45b8d134c3"
      },
      "execution_count": 5,
      "outputs": [
        {
          "output_type": "stream",
          "name": "stdout",
          "text": [
            "歡迎參加猜數字遊戲！\n",
            "請在1~100間猜一個數字：50\n",
            "猜小一點：30\n",
            "猜大一點：40\n",
            "猜小一點：35\n",
            "猜小一點：33\n",
            "猜小一點：32\n",
            "猜小一點：31\n",
            "恭喜答對！\n",
            "遊戲結束。\n"
          ]
        }
      ]
    }
  ]
}